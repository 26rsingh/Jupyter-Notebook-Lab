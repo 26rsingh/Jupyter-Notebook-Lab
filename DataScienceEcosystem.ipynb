{
 "cells": [
  {
   "cell_type": "markdown",
   "id": "3ae12d92-524a-4c93-a020-9c2569c7ac28",
   "metadata": {},
   "source": [
    "# Data Science Tools and Ecosystem"
   ]
  },
  {
   "cell_type": "markdown",
   "id": "bf5f58c0-7c01-48b0-85a9-ec7ffb18d758",
   "metadata": {},
   "source": [
    "## Author\n",
    "Rhea Singh"
   ]
  },
  {
   "cell_type": "markdown",
   "id": "9e7695c8-9417-4b49-80e3-4788654e216f",
   "metadata": {},
   "source": [
    "In this notebook, Data Science Tools and Ecosystem are summarized."
   ]
  },
  {
   "cell_type": "markdown",
   "id": "b8164ae6-cf14-4189-9da6-86d58b97715e",
   "metadata": {},
   "source": [
    "**Objectives:**\n",
    "\n",
    "- List popular languages for data science\n",
    "\n",
    "- List commonly used libraries in data science\n",
    "\n",
    "- Show examples of evaluating arithmetic expressions in Python"
   ]
  },
  {
   "cell_type": "markdown",
   "id": "4a86fc1d-912b-4653-b567-932e83bb6752",
   "metadata": {},
   "source": [
    "Some of the popular languages that Data Scientists use are:\n",
    "1. R\n",
    "2. Python\n",
    "3. SQL\n",
    "   \n"
   ]
  },
  {
   "cell_type": "markdown",
   "id": "ac1858a3-4615-44cc-afa2-44f78c0c4e99",
   "metadata": {},
   "source": [
    "Some of the commonly used libraries in data science include\n",
    "\n",
    "1. MatPlotLib\n",
    "2. Numpy\n",
    "3. Pandas\n",
    "4. SciPy\n"
   ]
  },
  {
   "cell_type": "markdown",
   "id": "2bbd4550-a596-40f9-9c85-2eede669584d",
   "metadata": {},
   "source": [
    "|Data Science Tools|\n",
    "|---------|\n",
    "|Jupyter|\n",
    "|R Studio|\n",
    "|Spyder|"
   ]
  },
  {
   "cell_type": "markdown",
   "id": "aea8410c-e655-431a-baa2-c1d82b32a339",
   "metadata": {},
   "source": [
    "### Below are a few examples of evaluating arithmetic expression in Python"
   ]
  },
  {
   "cell_type": "code",
   "execution_count": 3,
   "id": "4abb9573-27ed-49e2-bafc-c2ad39e3d3e1",
   "metadata": {},
   "outputs": [
    {
     "data": {
      "text/plain": [
       "17"
      ]
     },
     "execution_count": 3,
     "metadata": {},
     "output_type": "execute_result"
    }
   ],
   "source": [
    "(3*4)+5\n",
    "#this is a simple arithmetic expression to multiply then add integers"
   ]
  },
  {
   "cell_type": "code",
   "execution_count": 6,
   "id": "55945847-7d3f-4547-b957-0f5c1ddf971f",
   "metadata": {},
   "outputs": [
    {
     "data": {
      "text/plain": [
       "3.3333333333333335"
      ]
     },
     "execution_count": 6,
     "metadata": {},
     "output_type": "execute_result"
    }
   ],
   "source": [
    "200/60\n",
    "#This will convert 200 minutes to hours by diving by 60\n"
   ]
  },
  {
   "cell_type": "code",
   "execution_count": null,
   "id": "cae3fb5c-7719-401d-9927-c9866a128250",
   "metadata": {},
   "outputs": [],
   "source": [
    "\n"
   ]
  }
 ],
 "metadata": {
  "kernelspec": {
   "display_name": "Python 3 (ipykernel)",
   "language": "python",
   "name": "python3"
  },
  "language_info": {
   "codemirror_mode": {
    "name": "ipython",
    "version": 3
   },
   "file_extension": ".py",
   "mimetype": "text/x-python",
   "name": "python",
   "nbconvert_exporter": "python",
   "pygments_lexer": "ipython3",
   "version": "3.11.9"
  }
 },
 "nbformat": 4,
 "nbformat_minor": 5
}
